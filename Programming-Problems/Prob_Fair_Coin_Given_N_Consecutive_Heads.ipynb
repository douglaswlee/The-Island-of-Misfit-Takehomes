{
 "cells": [
  {
   "cell_type": "markdown",
   "metadata": {},
   "source": [
    "## Fair and Unfair Coins in a Jar"
   ]
  },
  {
   "cell_type": "markdown",
   "metadata": {},
   "source": [
    "*I've encountered a variation of this problem as part of two different interview processes: in **October 2018** during a \"Pair Programming\" interview and in **August 2019** as part of a HackerRank assessment (as a straight probability question).*"
   ]
  },
  {
   "cell_type": "markdown",
   "metadata": {},
   "source": [
    "Consider a jar with ten coins -- nine fair (in that Heads or Tails are equally likely), one unfair (where both sides are Heads). You randomly pick a coin from a jar and flip it four times, landing on Heads each time. What is the probablity that the coin is fair?"
   ]
  },
  {
   "cell_type": "markdown",
   "metadata": {},
   "source": [
    "#### Analytical Solution using Bayes' Theorem"
   ]
  },
  {
   "cell_type": "markdown",
   "metadata": {},
   "source": [
    "This problem requires the use of [Bayes' Theorem](https://en.wikipedia.org/wiki/Bayes%27_theorem):\n",
    "\n",
    "$P(A|B) = \\frac{P(B|A)P(A)}{P(B)}$\n",
    "\n",
    "where $A$ represents the event that the coin is fair and $B$ the event that all four coin flips landed on Heads. We need to use the [Law of Total Probability](https://en.wikipedia.org/wiki/Law_of_total_probability) to calculate $P(B)$ as:\n",
    "\n",
    "$P(B) = P(B|A)P(A) + P(B|\\overline{A})P(\\overline{A})$\n",
    "\n",
    "where:\n",
    "\n",
    "$P(B|A) = \\frac{1}{16}$, $P(B|\\overline{A}) = 1$, $P(A) = \\frac{9}{10}$, $P(\\overline{A}) = \\frac{1}{10}$\n",
    "\n",
    "That is, the randomly selected coin can only be fair or unfair with probabilities 9/10 and 1/10 respectively. If it's fair, the probability of four Heads is $\\left(\\frac{1}{2}\\right)^4$ by independence and if it's unfair you will always land on 4 Heads. Just plugging and chugging we get:\n",
    "\n",
    "$P(A|B) = \\frac{P(B|A)P(A)}{P(B|A)P(A) + P(B|\\overline{A})P(\\overline{A}))} = \\frac{9}{25}$"
   ]
  },
  {
   "cell_type": "markdown",
   "metadata": {},
   "source": [
    "#### Numerical Solution to Estimate $P(A|B)$"
   ]
  },
  {
   "cell_type": "markdown",
   "metadata": {},
   "source": [
    "We can also \"solve\" this problem numerically as below. We create an array correspoding to picking the coin out of the jar, and first determine how many are unfair (and consequently, fair) and automatically result in observing four Heads. Then we create another array corresponding to the four flips of the fair coins, and determine which of these result in observing four Heads. Having computed both these values, we then estimate $P(A|B)$."
   ]
  },
  {
   "cell_type": "code",
   "execution_count": 1,
   "metadata": {},
   "outputs": [],
   "source": [
    "import numpy as np"
   ]
  },
  {
   "cell_type": "code",
   "execution_count": 2,
   "metadata": {},
   "outputs": [],
   "source": [
    "def estimate_fair_coin_prob(trials):\n",
    "    coins = np.random.rand(trials)\n",
    "    unfair_four_heads = sum(coins > 0.9)\n",
    "    fair_flips = np.random.rand(trials-unfair_four_heads)\n",
    "    fair_four_heads = sum(fair_flips <= 1/16)\n",
    "    return fair_four_heads / (fair_four_heads + unfair_four_heads)"
   ]
  },
  {
   "cell_type": "code",
   "execution_count": 3,
   "metadata": {},
   "outputs": [
    {
     "data": {
      "text/plain": [
       "0.3567793880837359"
      ]
     },
     "execution_count": 3,
     "metadata": {},
     "output_type": "execute_result"
    }
   ],
   "source": [
    "estimate_fair_coin_prob(100000)"
   ]
  },
  {
   "cell_type": "markdown",
   "metadata": {},
   "source": [
    "We found that $P(A|B) = \\frac{9}{25} = 0.36$ so this is not bad."
   ]
  }
 ],
 "metadata": {
  "kernelspec": {
   "display_name": "Python 3",
   "language": "python",
   "name": "python3"
  },
  "language_info": {
   "codemirror_mode": {
    "name": "ipython",
    "version": 3
   },
   "file_extension": ".py",
   "mimetype": "text/x-python",
   "name": "python",
   "nbconvert_exporter": "python",
   "pygments_lexer": "ipython3",
   "version": "3.6.4"
  }
 },
 "nbformat": 4,
 "nbformat_minor": 2
}
